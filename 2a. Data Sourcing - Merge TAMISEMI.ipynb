{
 "cells": [
  {
   "cell_type": "markdown",
   "id": "df23e646",
   "metadata": {},
   "source": [
    "# Tanzania Primary Education Results (NECTA PSLE)\n",
    "\n",
    "### 2a. Data Sourcing - TAMISEMI\n",
    "\n",
    "**Comment:** *Very thankful that this data is publically accessible!*\n",
    "\n",
    "* Light data cleaning on dataset before every merge\n",
    "1. Merge with TAMISEMI 1: consolidated school data (Gov/Non, location, PTR)\n",
    "2. Merge with TAMISEMI 2: primary textbooks school data (PBR)\n",
    "3. Merge with TAMISEMI 3: capitation grant school data (CG) \n",
    "4. Merge with TAMISEMI 4: enrollment by age and sex school data\n",
    "\n",
    "#### Inputs:\n",
    "* **nation_necta_features.csv (17900, 12)**\n",
    "\n",
    "#### Outputs:\n",
    "* **nation_merged.csv (17900, 28)**\n",
    "* df_ts11_fixes.csv (35, 19)\n",
    "* df_x12_left_fixes.csv (80, 12)\n",
    "* df_x12_left.csv (2, 12)\n",
    "* df_x12_both.csv (567, 27)\n",
    "* df_x13_duplicated_first.csv (24, 27)\n",
    "    \n",
    "#### Functions:\n",
    "* `calc_pbr_average`\n",
    "* `get_ages_stats`"
   ]
  },
  {
   "cell_type": "code",
   "execution_count": 1,
   "id": "fa5cc2b3",
   "metadata": {
    "scrolled": true
   },
   "outputs": [],
   "source": [
    "#Libraries: pre-installed in Anaconda\n",
    "import numpy as np\n",
    "import pandas as pd\n",
    "#User-defined functions.py\n",
    "import functions as fn"
   ]
  },
  {
   "cell_type": "markdown",
   "id": "486c73a2",
   "metadata": {},
   "source": [
    "### 1. Merge with TAMISEMI 1: consolidated school data (Gov/Non, location, PTR)\n",
    "### A. Data Cleaning\n",
    "**ELI5 Summary:**\n",
    "*Check main school features data for obvious issues and corner cases*\n",
    "\n",
    "**Steps:**\n",
    "* Light data cleaning: dtypes, values, duplicates, drop columns, missing data\n",
    "* Light feature extraction (and data clean)\n",
    "\n",
    "**DATA observations:**\n",
    "* This is the MAIN dataset from [per-school data](https://www.tamisemi.go.tz/singleministers/basic-education-data-2022) from TAMISEMI (President's Office - Regional Administration and Local Government) including interesting features:\n",
    "    * **Ownership:** Government/Non-Government\n",
    "    * **Location:** administrative down to ward (neighborhood) and latitude/longitude coordinates\n",
    "    * **Pupil-to-Teacher Ratio (PTR)**\n",
    "* Full dataset is **19,261** primary schools registered in 2022\n",
    "    * After data cleaning, only **17,611** have a NECTA ID# from 2021\n",
    "\n",
    "**Corner cases:**\n",
    "* **16 duplicated** `'NECTA EXAM CENTRE NO'`\n",
    "    * 7 corrected from NECTA web\n",
    "    * 9 corrected to n/a (not found on NECTA web)\n",
    "* 3 corrected (1 from n/a) `'NECTA EXAM CENTRE NO'` from Morogoro Region detailed analysis\n",
    "* 5 schools removed with zero `'TOTAL STUDENTS'`\n",
    "* 6 schools with infinite `'PQTR'` (zero qualified teachers) => use `np.inf`\n",
    "\n",
    "**Learnings:** (🧑🏻‍💻📚😎⚠️)\n",
    "- 🧑🏻‍💻 Handy sanity check code first used here\n",
    "    - MISSING values: `.isna().sum()`\n",
    "    - Duplicate rows: `.duplicated(keep=False).sum()` (then divide by two)\n",
    "- 🧑🏻‍💻 NumPy `np.isinf()` finds `inf` (infinite) values from division by 0\n",
    "- 📚 Data cleaning ***as immediately as possible*** pays off here for cleaned, unique, understood data BEFORE the merges\n",
    "- ⚠️ Python round() for n.5 rounds to nearest **even** number!"
   ]
  },
  {
   "cell_type": "code",
   "execution_count": 2,
   "id": "45694ef0",
   "metadata": {
    "scrolled": true
   },
   "outputs": [
    {
     "data": {
      "text/plain": [
       "(19261, 17)"
      ]
     },
     "execution_count": 2,
     "metadata": {},
     "output_type": "execute_result"
    }
   ],
   "source": [
    "#Prepare TAMISEMI dataset #1 \"Consolidated\" for joining\n",
    "df_ts1 = pd.read_csv('../datain/Consolidated_Primary_EnrolmentbyGrade_PTR_2022_PSLE2021.csv',\\\n",
    "                     usecols = ['REGION', 'COUNCIL', 'WARD', 'SCHOOL NAME', 'SCHOOL REG. NUMBER', 'NECTA EXAM CENTRE NO',\\\n",
    "                                'SCHOOL OWNERSHIP', 'LATITUTE', 'LONGITUDE',\\\n",
    "                                'TOTAL BOYS', 'TOTAL GIRLS',\\\n",
    "                                'ALL TEACHERS MALE', 'ALL TEACHERS FEMALE', 'QUALIFIED TEACHERS MALE', 'QUALIFIED TEACHERS FEMALE',\\\n",
    "                                'PTR', 'PQTR'])\n",
    "df_ts1.shape"
   ]
  },
  {
   "cell_type": "code",
   "execution_count": 16,
   "id": "111ec09d",
   "metadata": {},
   "outputs": [],
   "source": [
    "# Light Data Cleaning\n",
    "\n",
    "#(1) Data types\n",
    "df_ts11 = df_ts1.convert_dtypes() #returns a copy\n",
    "categorical_list = ['REGION', 'COUNCIL', 'SCHOOL OWNERSHIP']\n",
    "df_ts11[categorical_list] = df_ts11[categorical_list].astype('category')\n",
    "\n",
    "#(2) Data values\n",
    "\n",
    "#Rename column\n",
    "df_ts11.rename(columns={'LATITUTE': 'LATITUDE'}, inplace=True)\n",
    "#Remove '-' to match NECTA\n",
    "df_ts11['NECTA EXAM CENTRE NO'] = df_ts11['NECTA EXAM CENTRE NO'].apply(lambda x : \"\".join(str(x).split('-')))\n",
    "df_ts11['NECTA EXAM CENTRE NO'] = df_ts11['NECTA EXAM CENTRE NO'].replace('<NA>', pd.NA) #undo from previous apply\n",
    "\n",
    "#Replace PQTR 'divide by 0s' when sum(QUALIFIED TEACHERS) = 0\n",
    "df_ts11['PQTR'] = df_ts11['PQTR'].astype('object').replace('#DIV/0!', np.inf).astype('float64')\n",
    "#df_ts11[np.isinf(df_ts11['PQTR'])] #result: 6 rows (sum(QUALIFIED) = 0)\n",
    "\n",
    "#Data integrity check PTR/PQTR\n",
    "df_ts11['TOTAL STUDENTS'] = df_ts11['TOTAL GIRLS'] + df_ts11['TOTAL BOYS']\n",
    "df_ts11['PTR CHECK'] = (df_ts11['TOTAL STUDENTS'] / (df_ts11['ALL TEACHERS FEMALE'] + df_ts11['ALL TEACHERS MALE']) + 0.5).astype(int)\n",
    "assert (df_ts11['PTR CHECK'] == df_ts11['PTR']).all(), 'Found mismatch in PTR calculation'\n",
    "\n",
    "df_ts11notinf = df_ts11[np.isfinite(df_ts11['PQTR'])].copy() #don't check np.inf cases\n",
    "df_ts11notinf['PQTR CHECK'] = (df_ts11notinf['TOTAL STUDENTS'] / (df_ts11notinf['QUALIFIED TEACHERS FEMALE'] + df_ts11notinf['QUALIFIED TEACHERS MALE']) + 0.5).astype(int)\n",
    "assert (df_ts11notinf['PQTR CHECK'] == df_ts11notinf['PQTR'].astype('int')).all(), 'Found mismatch in PQTR calculation'"
   ]
  },
  {
   "cell_type": "code",
   "execution_count": 7,
   "id": "f066e3db",
   "metadata": {
    "scrolled": true
   },
   "outputs": [
    {
     "data": {
      "text/plain": [
       "0"
      ]
     },
     "execution_count": 7,
     "metadata": {},
     "output_type": "execute_result"
    }
   ],
   "source": [
    "#(3) Duplicate rows - NECTA ID#\n",
    "#check\n",
    "#df_ts11[df_ts11['NECTA EXAM CENTRE NO'].notna()].duplicated(subset=['NECTA EXAM CENTRE NO']).sum()\n",
    "\n",
    "#Get duplicated NECTA ID#\n",
    "df_ts11notna = df_ts11[df_ts11['NECTA EXAM CENTRE NO'].notna()] #(17619, 17)\n",
    "df_ts11dup = df_ts11notna[df_ts11notna['NECTA EXAM CENTRE NO'].duplicated(keep=False)] #(32, 17)\n",
    "\n",
    "#Found mixed up NECTA ID# among three schools in Morogoro Region\n",
    "df_ts11err = df_ts11[(df_ts11['SCHOOL NAME'].apply(lambda x : x.startswith('CHITA'))) & (df_ts11['WARD'] == 'Chita')]\n",
    "\n",
    "#output to CSV for MANUAL Excel corrections\n",
    "pd.concat([df_ts11dup, df_ts11err]).to_csv('dataout/2a/df_ts11_duplicates_errors.csv')\n",
    "\n",
    "################################\n",
    "### MANUAL Excel corrections ###\n",
    "################################\n",
    "\n",
    "#read from CSV after MANUAL Excel corrections\n",
    "df_ts11fixes = pd.read_csv('dataout/2a/df_ts11_fixes.csv', index_col=0).convert_dtypes()\n",
    "#concat to original TS1, then drop_duplicates keeping the 'last' FIXED entry\n",
    "df_ts12 = pd.concat([df_ts11, df_ts11fixes])\n",
    "df_ts13 = df_ts12.drop_duplicates(subset=['SCHOOL REG. NUMBER'], keep='last').copy()\n",
    "\n",
    "#check\n",
    "df_ts13[df_ts13['NECTA EXAM CENTRE NO'].notna()].duplicated(subset=['NECTA EXAM CENTRE NO']).sum()"
   ]
  },
  {
   "cell_type": "code",
   "execution_count": 8,
   "id": "05c48e1d",
   "metadata": {
    "scrolled": true
   },
   "outputs": [],
   "source": [
    "#(4) Drop unneeded columns\n",
    "df_ts14 = df_ts13.drop(['ALL TEACHERS MALE', 'ALL TEACHERS FEMALE', 'QUALIFIED TEACHERS MALE', 'QUALIFIED TEACHERS FEMALE', 'PTR CHECK'], axis=1)\n",
    "#df_ts14.info()\n",
    "\n",
    "#(5) Check MISSING data (keep for merge)\n",
    "#df_ts14.isna().any(axis=0) #NECTA EXAM CENTRE NO     True\n",
    "df_ts14.isna().any(axis=1).sum()\n",
    "\n",
    "#Light Feature Extraction (and data clean)\n",
    "df_ts15 = df_ts14[df_ts14['TOTAL STUDENTS'] != 0].copy() #drop now to avoid 0/0 for RATIO\n",
    "df_ts15['RATIO GIRLS-BOYS'] = df_ts15['TOTAL GIRLS'] / df_ts15['TOTAL BOYS']\n",
    "#df_ts15[np.isinf(df_ts15['RATIO GIRLS-BOYS'])] #girls-only schools"
   ]
  },
  {
   "cell_type": "code",
   "execution_count": 9,
   "id": "7638fddd",
   "metadata": {
    "scrolled": true
   },
   "outputs": [
    {
     "data": {
      "text/plain": [
       "(19256, 15)"
      ]
     },
     "execution_count": 9,
     "metadata": {},
     "output_type": "execute_result"
    }
   ],
   "source": [
    "#Save to intermediate CSV\n",
    "#df_ts15.to_csv('dataout/2a/df_ts15_cleaned.csv')\n",
    "df_ts15.shape"
   ]
  },
  {
   "cell_type": "markdown",
   "id": "285e5242",
   "metadata": {},
   "source": [
    "### 1. Merge with TAMISEMI 1: consolidated school data (Gov/Non, location, PTR)\n",
    "### B. Merge NECTA with TAMISEMI 1\n",
    "**ELI5 Summary:**\n",
    "*Combine examination results data with main school features data using SQL-like JOINS [(Pandas merge)](https://pandas.pydata.org/docs/reference/api/pandas.DataFrame.merge.html)*\n",
    "\n",
    "**Steps:**\n",
    "- Patch in council (4) and school (80) name mismatch FIXES discovered in 1.2 LEFT JOIN (left_only)\n",
    "1. LEFT JOIN **on school exam ID** (both = **17,331** schools) < read in CSV\n",
    "2. LEFT JOIN **on school name and council** (both = **567** schools) < left_only from step 1\n",
    "3. Concatenate joined (and **2 unjoined**) schools (total = **17,900** schools) < both from step 1, both and left_only from step 2\n",
    "4. Post-processing steps: internal checks, drop unneeded columns, set index to NECTA exam ID > save CSV\n",
    "\n",
    "**DATA observations:**\n",
    "* Full NECTA dataset is **17,900** primary schools (clean results)\n",
    "    * 7.1% of registered schools didn't do exams\n",
    "\n",
    "**Corner cases:**\n",
    "* Discovered during JOINs:\n",
    "    * (1.1) Found **569 schools** (left_only) with mismatched or no (new in 2022?) exam ID in  TAMISEMI dataset => mostly from 3 councils\n",
    "    * (1.2) Found **80 schools** without exact council and school name match\n",
    "        * (1.2) Fixed **78 mismatched** school names\n",
    "        * (1.2) Remaining **2 schools** (left_only) not identifable in TAMISEMI set **=> KEEP (NECTA data only)**\n",
    "    * (1.4) Found **24 \"incorrectly\" matched schools** from 1.1 **=> unmatch and KEEP (NECTA data only)**\n",
    "\n",
    "**Learnings:** (🧑🏻‍💻📚😎⚠️)\n",
    "- 🧑🏻‍💻 Use `indicator=True` to get **indicator column**: `both`, `left_only` for sane construction of full dataset\n",
    "- 🧑🏻‍💻 Name DataFrames by flow sequence, e.g., df_x13 (assignment to new DF at most steps)\n",
    "- 😎 A meaningful index can be helpful!, e.g., `'SCHOOL REG. NUMBER'` here for subsequent TAMISEMI dataset merges\n",
    "- ⚠️ Small string mismatches (case, punctuation, spelling, whitespace) require manual checks\n",
    "- ⚠️ **There can be corner cases of corner cases!** *Just when you think you're done* (see 1.2 above)"
   ]
  },
  {
   "cell_type": "code",
   "execution_count": 10,
   "id": "c256ff3d",
   "metadata": {
    "scrolled": true
   },
   "outputs": [
    {
     "data": {
      "text/plain": [
       "(17900, 12)"
      ]
     },
     "execution_count": 10,
     "metadata": {},
     "output_type": "execute_result"
    }
   ],
   "source": [
    "#Read in CSV\n",
    "n_dtype_dict = {'school_name': 'string', 'school_id': 'string',\n",
    "                'grade': 'category', 'region_name': 'category', 'council_name': 'category'}\n",
    "df_n = pd.read_csv('dataout/2a/nation_necta_features.csv', index_col=0, dtype=n_dtype_dict)\n",
    "df_n.shape"
   ]
  },
  {
   "cell_type": "code",
   "execution_count": 11,
   "id": "92034476",
   "metadata": {
    "scrolled": true
   },
   "outputs": [
    {
     "data": {
      "text/plain": [
       "(17900, 12)"
      ]
     },
     "execution_count": 11,
     "metadata": {},
     "output_type": "execute_result"
    }
   ],
   "source": [
    "#Patch in FIXES discovered in 1.2 LEFT JOIN (below)\n",
    "df_n2 = df_n.copy()\n",
    "df_ts16 = df_ts15.copy()\n",
    "\n",
    "#1.01 - FIX 'COUNCIL' mismatches, replace with NECTA council names\n",
    "to_replace_list = ['Kahama MC', 'Kigoma/Ujiji MC', 'Mtwara Mikindani MC']\n",
    "value_list = ['Kahama TC', 'Kigoma MC', 'Mtwara MC']\n",
    "df_ts16['COUNCIL'] = df_ts16['COUNCIL'].replace(to_replace_list, value_list)\n",
    "\n",
    "#1.02 - Capital \"S\" in Dar es Salaam\n",
    "df_n2['council_name'] = df_n2['council_name'].replace('Dar es salaam CC', 'Dar es Salaam CC')\n",
    "df_n2['region_name'] = df_n2['region_name'].replace('Dar es salaam', 'Dar es Salaam')\n",
    "\n",
    "#1.03 - FIX 'school_name' mismatches, replace with TAMISEMI school names\n",
    "df_n_fixes = pd.read_csv('dataout/2a/df_x12_left_fixes.csv', index_col=0, dtype=n_dtype_dict)\n",
    "\n",
    "#concat to original TS1, then drop_duplicates keeping the 'last' FIXED entry\n",
    "df_n3 = pd.concat([df_n2, df_n_fixes])\n",
    "df_n4 = df_n3.drop_duplicates(subset=['school_id'], keep='last')\n",
    "\n",
    "#check\n",
    "df_n4.shape"
   ]
  },
  {
   "cell_type": "code",
   "execution_count": 12,
   "id": "92723eca",
   "metadata": {
    "scrolled": true
   },
   "outputs": [
    {
     "data": {
      "text/plain": [
       "(17331, 27)"
      ]
     },
     "execution_count": 12,
     "metadata": {},
     "output_type": "execute_result"
    }
   ],
   "source": [
    "#1.1 LEFT JOIN on school exam ID (most cases)\n",
    "df_x11 = df_n4.merge(df_ts16, how='left', indicator=True,\\\n",
    "                     left_on=['school_id'],\\\n",
    "                     right_on=['NECTA EXAM CENTRE NO'])\n",
    "\n",
    "df_x11.shape\n",
    "#df_x11.to_csv('dataout/2a/df_x11_merged.csv')\n",
    "\n",
    "#Split joined and unjoined\n",
    "df_x11['_merge'].value_counts()\n",
    "df_x11_both = df_x11[df_x11['_merge'] == 'both'].drop('_merge', axis=1) #both=17331\n",
    "df_x11_left = df_x11[df_x11['_merge'] == 'left_only'].drop('_merge', axis=1)[df_n.columns] #left_only=569\n",
    "\n",
    "#Check \n",
    "#df_x11[df_x11['council_name'] != df_x11['COUNCIL']]['COUNCIL'].value_counts() #FIXES 1.01-2\n",
    "df_x11_both.shape"
   ]
  },
  {
   "cell_type": "code",
   "execution_count": 10,
   "id": "25a5ce15",
   "metadata": {
    "scrolled": true
   },
   "outputs": [],
   "source": [
    "#1.2 LEFT JOIN on school name and council (for 1.1 unjoined)\n",
    "df_x12 = df_x11_left.merge(df_ts16, how='left', indicator=True,\\\n",
    "                     left_on=['school_name', 'council_name'],\\\n",
    "                     right_on=['SCHOOL NAME', 'COUNCIL'])\n",
    "\n",
    "df_x12.shape\n",
    "#df_x12.to_csv('dataout/2a/df_x12_merged.csv')\n",
    "\n",
    "#Split joined and unjoined\n",
    "df_x12['_merge'].value_counts()\n",
    "df_x12_both = df_x12[df_x12['_merge'] == 'both'].drop('_merge', axis=1) #both=389 => 489 => 567\n",
    "df_x12_left = df_x12[df_x12['_merge'] == 'left_only'].drop('_merge', axis=1) #left_only=180 => 80 => 2\n",
    "\n",
    "#df_x12_both.to_csv('dataout/2a/df_x12_both.csv')\n",
    "#df_x12_left.to_csv('dataout/2a/df_x12_left.csv') #=> use for MANUAL Excel FIXES (above)"
   ]
  },
  {
   "cell_type": "code",
   "execution_count": 11,
   "id": "1a3b5059",
   "metadata": {
    "scrolled": true
   },
   "outputs": [
    {
     "data": {
      "text/plain": [
       "(17900, 27)"
      ]
     },
     "execution_count": 11,
     "metadata": {},
     "output_type": "execute_result"
    }
   ],
   "source": [
    "#1.3 Concatenate joined schools from 1.1 and 1.2, and unjoined from 1.2\n",
    "df_x13 = pd.concat([df_x11_both, df_x12_both, df_x12_left])\n",
    "\n",
    "#Check \n",
    "#df_x13.duplicated(subset='school_id', keep=False).sum() #duplicates=0\n",
    "df_x13.shape\n",
    "#df_x13.to_csv('dataout/2a/df_x13_merged.csv')"
   ]
  },
  {
   "cell_type": "code",
   "execution_count": 12,
   "id": "4028af3d",
   "metadata": {},
   "outputs": [
    {
     "data": {
      "text/plain": [
       "(17900, 22)"
      ]
     },
     "execution_count": 12,
     "metadata": {},
     "output_type": "execute_result"
    }
   ],
   "source": [
    "#1.4 Post-processing steps\n",
    "df_x14a = df_x13.copy()\n",
    "\n",
    "#Data sanity checks - NECTA vs. TAMISEMI (school info)\n",
    "assert (df_x14a['council_name'] == df_x14a['COUNCIL']).all(), 'Found mismatch in council name' #expect no mismatches\n",
    "assert (df_x14a['region_name'] == df_x14a['REGION']).all(), 'Found mismatch in region name' #expect no mismatches\n",
    "#assert (df_x14a['school_id'] == df_x14a['NECTA EXAM CENTRE NO']).all(), 'Found mismatch in NECTA exam ID' #expect no mismatches\n",
    "\n",
    "#Found duplicated \"Registration Number\" from \"incorrectly\" matched schools from 1.1\n",
    "df_x14a['SCHOOL REG. NUMBER'].duplicated().sum() #result => 24 + 1 NaN\n",
    "df_x14a_dup = df_x14a[df_x14a['SCHOOL REG. NUMBER'].duplicated(keep='last')] #first duplicates True\n",
    "df_x14a_dup.to_csv('dataout/2a/df_x14a_duplicated_first.csv')\n",
    "#Unmatch TAMISEMI data\n",
    "df_x14a.loc[df_x14a['SCHOOL REG. NUMBER'].duplicated(keep='last'), df_ts16.columns] = pd.NA\n",
    "df_x14a[df_x14a['SCHOOL REG. NUMBER'].notna()].duplicated().sum() #result => 0\n",
    "\n",
    "#Use unique \"NECTA exam ID\" as index\n",
    "df_x14a['school_id'].duplicated().sum() #check no duplicates\n",
    "df_x14b = df_x14a.set_index('school_id')\n",
    "\n",
    "#Drop unneeded columns (already used to cross-check)\n",
    "df_x14c = df_x14b.drop(['REGION', 'COUNCIL', 'SCHOOL NAME', 'NECTA EXAM CENTRE NO'], axis=1)\n",
    "\n",
    "#Save to CSV\n",
    "df_x14c.shape\n",
    "#df_x14c.to_csv('dataout/2a/df_x14_merged.csv')"
   ]
  },
  {
   "cell_type": "markdown",
   "id": "787b2460",
   "metadata": {},
   "source": [
    "### 2. Merge with TAMISEMI primary textbooks school data (PBR)\n",
    "**ELI5 Summary:**\n",
    "*Combine primary school textbooks data with merged NECTA+TAMISEMI data*\n",
    "\n",
    "**Steps:**\n",
    "1. Calculate PBR average feature per-school using `calc_pbr_average` < read in CSV\n",
    "2. Light data cleaning\n",
    "3. LEFT JOIN on indexes `'SCHOOL REG. NUMBER'`/`'Reg Number'`\n",
    "4. Check MISSING `PBR_average` after merge\n",
    "5. Remove unneeded columns > save CSV\n",
    "\n",
    "**DATA observations:**\n",
    "* Raw data contains **Pupil-to-Book Ratio (PBR)** for every standard-subject per-school\n",
    "* There is no average PBR for all books so need to calculate using pupil and book counts per standard\n",
    "* Some pupils and books have MISSING values so `fillna(0)` and skip in calculation\n",
    "\n",
    "**Corner cases:**\n",
    "* **3 schools** with NECTA data have zero books recorded making `'PBR_average'` = NaN **=> KEEP**\n",
    "\n",
    "**Learnings:** (🧑🏻‍💻📚😎⚠️)\n",
    "- 🧑🏻‍💻 Pandas `apply` function per DF school row is essential here\n",
    "- ⚠️ MISSING data: `np.mean()` on an empty list causes a warning so need to catch"
   ]
  },
  {
   "cell_type": "code",
   "execution_count": 13,
   "id": "148bfb54",
   "metadata": {
    "scrolled": true
   },
   "outputs": [
    {
     "data": {
      "text/plain": [
       "(19261, 102)"
      ]
     },
     "execution_count": 13,
     "metadata": {},
     "output_type": "execute_result"
    }
   ],
   "source": [
    "#Prepare TAMISEMI dataset #2 \"Primary Textbooks\" for joining\n",
    "df_ts2 = pd.read_csv('../datain/Primary Textbooks and PBR, 2022.csv', index_col='Reg Number')\n",
    "df_ts2.shape"
   ]
  },
  {
   "cell_type": "code",
   "execution_count": 14,
   "id": "7f1f5a75",
   "metadata": {},
   "outputs": [],
   "source": [
    "#2.1 Calculate PBR average feature\n",
    "df_ts21 = df_ts2.fillna(0)\n",
    "df_ts21['PBR_average'] = df_ts21.apply(fn.calc_pbr_average, axis=1) #apply per DF school row\n",
    "df_ts21.to_csv('dataout/2a/df_ts21_PBR_average.csv')"
   ]
  },
  {
   "cell_type": "code",
   "execution_count": 15,
   "id": "93d16ea2",
   "metadata": {},
   "outputs": [
    {
     "data": {
      "text/plain": [
       "27"
      ]
     },
     "execution_count": 15,
     "metadata": {},
     "output_type": "execute_result"
    }
   ],
   "source": [
    "#2.2 Light data cleaning\n",
    "#(1) Data type\n",
    "df_ts21['PBR_average'].dtype #result: float64\n",
    "#(2) Data values\n",
    "df_ts21['PBR_average'].describe()\n",
    "#(4) Remove unneeded columns\n",
    "df_ts22 = df_ts21[['School Name', 'PBR_average']]\n",
    "#(5) MISSING data\n",
    "#df_ts22.info()\n",
    "df_ts22['PBR_average'].isna().sum() #result: 27 => check after merge\n",
    "#df_ts22[df_ts22['PBR_average'].isna()]"
   ]
  },
  {
   "cell_type": "code",
   "execution_count": 16,
   "id": "cc228ddb",
   "metadata": {},
   "outputs": [
    {
     "data": {
      "text/plain": [
       "count    17871.000000\n",
       "mean         4.037403\n",
       "std          4.178673\n",
       "min          0.241935\n",
       "25%          2.113054\n",
       "50%          2.904063\n",
       "75%          4.476140\n",
       "max        124.076565\n",
       "Name: PBR_average, dtype: float64"
      ]
     },
     "execution_count": 16,
     "metadata": {},
     "output_type": "execute_result"
    }
   ],
   "source": [
    "#2.3 LEFT JOIN on indexes 'SCHOOL REG. NUMBER'/'Reg Number'\n",
    "df_x23 = df_x14c.merge(df_ts22, how='left', indicator=True,\\\n",
    "                       left_on=['SCHOOL REG. NUMBER'],\\\n",
    "                       right_index=True)\n",
    "\n",
    "#Data sanity checks\n",
    "df_x23['_merge'].value_counts()\n",
    "df_x23.shape\n",
    "df_x23['PBR_average'].describe()"
   ]
  },
  {
   "cell_type": "code",
   "execution_count": 17,
   "id": "12312748",
   "metadata": {},
   "outputs": [
    {
     "data": {
      "text/plain": [
       "(17900, 23)"
      ]
     },
     "execution_count": 17,
     "metadata": {},
     "output_type": "execute_result"
    }
   ],
   "source": [
    "#2.4 Post processing\n",
    "\n",
    "#Check MISSING data after merge\n",
    "df_x23[df_x23['PBR_average'].isna()] #result: 29 rows = 26 no TAMISEMI match + 3 no books recorded\n",
    "\n",
    "#Drop cross-check column\n",
    "df_x24 = df_x23.drop(['School Name', '_merge'], axis=1)\n",
    "\n",
    "#Save to CSV\n",
    "df_x24.shape\n",
    "#df_x24.to_csv('dataout/2a/df_x24_merged.csv')"
   ]
  },
  {
   "cell_type": "markdown",
   "id": "eaabc1d8",
   "metadata": {},
   "source": [
    "### 3. Merge with TAMISEMI capitation grant school data (CG) \n",
    "**ELI5 Summary:**\n",
    "*Combine primary school capitation grant data with merged NECTA+TAMISEMI data*\n",
    "\n",
    "**Steps:**\n",
    "1. Light data cleaning on raw data: strip whitespace < read in CSV\n",
    "2. LEFT JOIN on indexes `'SCHOOL REG. NUMBER'`/`'Reg#'` > keep all\n",
    "3. Calculate **Capitation Grant per student** (divide by all students)\n",
    "4. Drop cross-check column > save CSV\n",
    "\n",
    "**DATA observations:**\n",
    "* Raw data contains per-school monthly (July 2021 - June 2022) grant amount in Tanzania Shillings (TZS) and total for financial year\n",
    "* At first glance, most CG per student amounts are within a reasonable range\n",
    "* Merge results:\n",
    "    * **16255 schools** ARE getting grants (almost all Government)\n",
    "    * **1645 schools** are NOT getting grants (almost all Non-Government) or not identifiable by registration ID\n",
    "\n",
    "**Corner cases:**\n",
    "* **1 school** (duplicated **ERROR**) has two CG entries with different amounts **=> DROP CG data** (as if not getting grants)\n",
    "* **11 Non-Government** schools ARE getting grants\n",
    "    * 5 of these have special/blind/deaf in their names\n",
    "* **95 Government** schools are NOT getting grants\n",
    "\n",
    "**Learnings:** (🧑🏻‍💻📚😎⚠️)\n",
    "- 🧑🏻‍💻 Pandas string functions are useful here to cleanup whitespace\n",
    "- 🧑🏻‍💻 Pandas vectorization at work!: one line division of column values to get 'School_CG_per_student' per school row"
   ]
  },
  {
   "cell_type": "code",
   "execution_count": 18,
   "id": "554b87e4",
   "metadata": {},
   "outputs": [
    {
     "data": {
      "text/plain": [
       "(16672, 22)"
      ]
     },
     "execution_count": 18,
     "metadata": {},
     "output_type": "execute_result"
    }
   ],
   "source": [
    "#Prepare TAMISEMI dataset #3 \"School_CG\" for joining\n",
    "df_ts3 = pd.read_csv('../datain/School_CG_Primary_2021-2022.csv', header=2, index_col='Reg#')\n",
    "df_ts3.shape"
   ]
  },
  {
   "cell_type": "code",
   "execution_count": 19,
   "id": "0ba47c68",
   "metadata": {},
   "outputs": [
    {
     "data": {
      "text/plain": [
       "(16669, 2)"
      ]
     },
     "execution_count": 19,
     "metadata": {},
     "output_type": "execute_result"
    }
   ],
   "source": [
    "#3.1 Light data cleaning on raw data\n",
    "\n",
    "#(2) Data values\n",
    "#Strip whitespace\n",
    "df_ts3.index = df_ts3.index.str.strip()\n",
    "df_ts3['SCHOOL NAME (ts3)'] = df_ts3['SCHOOL NAME'].str.strip()\n",
    "df_ts3['CG'] = df_ts3[' TOTAL '].str.strip().str.replace(',','').apply(lambda x : float(x))\n",
    "\n",
    "#(1) Data type (after above)\n",
    "df_ts3['CG'].dtype #result: float64\n",
    "\n",
    "#(3) Duplicated rows\n",
    "df_ts3[df_ts3.index.duplicated(keep=False)] #result: 2 rows with 'Reg# = 'EM.8020'\n",
    "#DROP both duplicates\n",
    "df_ts31 = df_ts3[~df_ts3.index.duplicated(keep=False)]\n",
    "\n",
    "#(4) Remain with only required features\n",
    "df_ts32 = df_ts31[['SCHOOL NAME (ts3)', 'CG']]\n",
    "\n",
    "#(5) MISSING values\n",
    "df_ts3[df_ts3['SCHOOL NAME (ts3)'].isna()] #result: 1 <= TOTAL row!\n",
    "#DROP and recheck CG values\n",
    "df_ts33 = df_ts32[df_ts32['SCHOOL NAME (ts3)'].notna()]\n",
    "\n",
    "#Last check\n",
    "#df_ts33['CG'].describe()\n",
    "df_ts33.shape"
   ]
  },
  {
   "cell_type": "code",
   "execution_count": 20,
   "id": "b71db91a",
   "metadata": {},
   "outputs": [
    {
     "data": {
      "text/plain": [
       "(17900, 26)"
      ]
     },
     "execution_count": 20,
     "metadata": {},
     "output_type": "execute_result"
    }
   ],
   "source": [
    "#3.2 LEFT JOIN on indexes 'SCHOOL REG. NUMBER'/'Reg#'\n",
    "df_x32 = df_x24.merge(df_ts33, how='left', indicator=True,\\\n",
    "                       left_on=['SCHOOL REG. NUMBER'],\\\n",
    "                       right_index=True)\n",
    "\n",
    "df_x32['_merge'].value_counts() #both=16255 #left_only=1645\n",
    "df_x32.shape\n",
    "\n",
    "#df_x32[df_x32['_merge'] == 'both']['SCHOOL OWNERSHIP'].value_counts() #Receiving grants: Gov=16244, NonGov=11\n",
    "#df_x32[df_x32['_merge'] == 'left_only']['SCHOOL OWNERSHIP'].value_counts() #NonGov=1524, Gov=95, NaN=26\n",
    "#df_x32['SCHOOL OWNERSHIP'].isna().sum() #result: 26"
   ]
  },
  {
   "cell_type": "code",
   "execution_count": 21,
   "id": "bcd6717c",
   "metadata": {},
   "outputs": [
    {
     "data": {
      "text/html": [
       "<div>\n",
       "<style scoped>\n",
       "    .dataframe tbody tr th:only-of-type {\n",
       "        vertical-align: middle;\n",
       "    }\n",
       "\n",
       "    .dataframe tbody tr th {\n",
       "        vertical-align: top;\n",
       "    }\n",
       "\n",
       "    .dataframe thead th {\n",
       "        text-align: right;\n",
       "    }\n",
       "</style>\n",
       "<table border=\"1\" class=\"dataframe\">\n",
       "  <thead>\n",
       "    <tr style=\"text-align: right;\">\n",
       "      <th></th>\n",
       "      <th>CG</th>\n",
       "      <th>CG_per_student</th>\n",
       "    </tr>\n",
       "  </thead>\n",
       "  <tbody>\n",
       "    <tr>\n",
       "      <th>count</th>\n",
       "      <td>1.625500e+04</td>\n",
       "      <td>16255.000000</td>\n",
       "    </tr>\n",
       "    <tr>\n",
       "      <th>mean</th>\n",
       "      <td>4.066465e+06</td>\n",
       "      <td>6409.352963</td>\n",
       "    </tr>\n",
       "    <tr>\n",
       "      <th>std</th>\n",
       "      <td>2.884566e+06</td>\n",
       "      <td>1716.295997</td>\n",
       "    </tr>\n",
       "    <tr>\n",
       "      <th>min</th>\n",
       "      <td>4.071692e+04</td>\n",
       "      <td>552.263985</td>\n",
       "    </tr>\n",
       "    <tr>\n",
       "      <th>25%</th>\n",
       "      <td>2.215315e+06</td>\n",
       "      <td>6021.859393</td>\n",
       "    </tr>\n",
       "    <tr>\n",
       "      <th>50%</th>\n",
       "      <td>3.418074e+06</td>\n",
       "      <td>6368.273899</td>\n",
       "    </tr>\n",
       "    <tr>\n",
       "      <th>75%</th>\n",
       "      <td>5.090749e+06</td>\n",
       "      <td>6706.914602</td>\n",
       "    </tr>\n",
       "    <tr>\n",
       "      <th>max</th>\n",
       "      <td>4.806562e+07</td>\n",
       "      <td>202332.886460</td>\n",
       "    </tr>\n",
       "  </tbody>\n",
       "</table>\n",
       "</div>"
      ],
      "text/plain": [
       "                 CG  CG_per_student\n",
       "count  1.625500e+04    16255.000000\n",
       "mean   4.066465e+06     6409.352963\n",
       "std    2.884566e+06     1716.295997\n",
       "min    4.071692e+04      552.263985\n",
       "25%    2.215315e+06     6021.859393\n",
       "50%    3.418074e+06     6368.273899\n",
       "75%    5.090749e+06     6706.914602\n",
       "max    4.806562e+07   202332.886460"
      ]
     },
     "execution_count": 21,
     "metadata": {},
     "output_type": "execute_result"
    }
   ],
   "source": [
    "#3.3 Calculate Capitation Grant per student (entire school)\n",
    "#The power of vectorization!\n",
    "df_x33b = df_x32.copy()\n",
    "df_x33a = df_x32[df_x32['CG'].notna()] #avoid NaN values in 'CG_per_student'\n",
    "df_x33b['CG_per_student'] = df_x33a['CG'] / df_x33a['TOTAL STUDENTS']\n",
    "df_x33b[['CG', 'CG_per_student']].describe()"
   ]
  },
  {
   "cell_type": "code",
   "execution_count": 22,
   "id": "79e69759",
   "metadata": {},
   "outputs": [
    {
     "data": {
      "text/plain": [
       "(17900, 25)"
      ]
     },
     "execution_count": 22,
     "metadata": {},
     "output_type": "execute_result"
    }
   ],
   "source": [
    "#3.4 Drop cross-check column\n",
    "df_x34 = df_x33b.drop(['SCHOOL NAME (ts3)', '_merge'], axis=1)\n",
    "\n",
    "#Save to CSV\n",
    "df_x34.shape\n",
    "#df_x34.to_csv('dataout/2a/df_x34_merged.csv')"
   ]
  },
  {
   "cell_type": "markdown",
   "id": "228edaf0",
   "metadata": {},
   "source": [
    "### 4. Merge with TAMISEMI enrollment by age and sex school data\n",
    "**ELI5 Summary:**\n",
    "*Combine primary school enrollment ages data with merged NECTA+TAMISEMI data*\n",
    "\n",
    "**Steps:**\n",
    "1. Light data cleaning on raw data: strip whitespace < read in CSV\n",
    "2. Calculate age features using `get_ages_stats`: SD, mean, median\n",
    "3. LEFT JOIN on indexes `'SCHOOL REG. NUMBER'`/`'Reg.No.'`\n",
    "4. Drop cross-check columns > save CSV\n",
    "\n",
    "**DATA observations:**\n",
    "* Raw data contains per-school enrollment of students by age and gender **=> very clean!**\n",
    "* What's potentially useful?: decided that **mean, median, and standard deviation (SD) on all ages** makes sense\n",
    "* Age stats will be approximate since we are assuming: Below 6 = 5, Above 13 = 14\n",
    "\n",
    "**Learnings:** (🧑🏻‍💻📚😎⚠️)\n",
    "- 🧑🏻‍💻 Use Pandas `to_list()` to turn tuple (from function) into seperate values (in columns)"
   ]
  },
  {
   "cell_type": "code",
   "execution_count": 23,
   "id": "c505db46",
   "metadata": {},
   "outputs": [
    {
     "data": {
      "text/plain": [
       "(19261, 28)"
      ]
     },
     "execution_count": 23,
     "metadata": {},
     "output_type": "execute_result"
    }
   ],
   "source": [
    "#Prepare TAMISEMI dataset #4 \"Enrollment\" for joining\n",
    "df_ts4 = pd.read_csv('../datain/Enrollment in Government and Non_Government Primary Schools by Age and Sex_2022.csv', index_col='Reg.No.')\n",
    "df_ts4.shape"
   ]
  },
  {
   "cell_type": "code",
   "execution_count": 24,
   "id": "f2ca810e",
   "metadata": {},
   "outputs": [
    {
     "data": {
      "text/plain": [
       "0"
      ]
     },
     "execution_count": 24,
     "metadata": {},
     "output_type": "execute_result"
    }
   ],
   "source": [
    "#4.1 Light data cleaning on raw data\n",
    "df_ts41 = df_ts4.copy()\n",
    "\n",
    "#(1) Data type (after above)\n",
    "df_ts41.dtypes #result: all ages are int64\n",
    "\n",
    "#(2) Data values\n",
    "df_ts41.describe() #result: look reasonable\n",
    "\n",
    "#(3) Duplicated rows\n",
    "df_ts41[df_ts41.index.duplicated(keep=False)] #result: 0 rows\n",
    "\n",
    "#(5) MISSING values\n",
    "df_ts41.isna().sum().sum()"
   ]
  },
  {
   "cell_type": "code",
   "execution_count": 25,
   "id": "779637ad",
   "metadata": {},
   "outputs": [
    {
     "data": {
      "text/plain": [
       "approx_ages_SD      5\n",
       "approx_ages_mean    5\n",
       "ages_median         5\n",
       "School (ts4)        0\n",
       "dtype: int64"
      ]
     },
     "execution_count": 25,
     "metadata": {},
     "output_type": "execute_result"
    }
   ],
   "source": [
    "#4.2 Feature Extraction - ages SD, mean, median\n",
    "df_ts41['student_ages'] = df_ts41.apply(fn.get_ages_stats, axis=1)\n",
    "df_ts42 = pd.DataFrame(df_ts41['student_ages'].to_list(), columns = ['approx_ages_SD', 'approx_ages_mean', 'ages_median'], index=df_ts4.index)\n",
    "df_ts42['School (ts4)'] = df_ts41['School'] #for cross-checking\n",
    "\n",
    "#Check data values\n",
    "df_ts42.isna().sum() #result: 5 for age stats (0 students) => will not be merged"
   ]
  },
  {
   "cell_type": "code",
   "execution_count": 26,
   "id": "ae1a790c",
   "metadata": {
    "scrolled": true
   },
   "outputs": [
    {
     "data": {
      "text/plain": [
       "(17900, 30)"
      ]
     },
     "execution_count": 26,
     "metadata": {},
     "output_type": "execute_result"
    }
   ],
   "source": [
    "#4.3 LEFT JOIN on indexes 'SCHOOL REG. NUMBER'/'Reg.No.'\n",
    "df_x43 = df_x34.merge(df_ts42, how='left', indicator=True,\\\n",
    "                      left_on=['SCHOOL REG. NUMBER'],\\\n",
    "                    right_index=True)\n",
    "\n",
    "df_x43['_merge'].value_counts() #both=17871\n",
    "#df_x43['approx_ages_SD'].isna().sum()\n",
    "df_x43.shape\n",
    "\n",
    "#df_x43[['approx_ages_SD', 'approx_ages_mean', 'ages_median']].describe()"
   ]
  },
  {
   "cell_type": "code",
   "execution_count": 27,
   "id": "7fa9a92b",
   "metadata": {
    "scrolled": true
   },
   "outputs": [
    {
     "data": {
      "text/plain": [
       "(17900, 28)"
      ]
     },
     "execution_count": 27,
     "metadata": {},
     "output_type": "execute_result"
    }
   ],
   "source": [
    "#4.4 Drop cross-check column\n",
    "df_x44 = df_x43.drop(['School (ts4)', '_merge'], axis=1)\n",
    "df_x44.shape\n",
    "\n",
    "#Save to CSV: final for Data Sourcing!\n",
    "#df_x44.to_csv('dataout/2a/nation_merged.csv')"
   ]
  },
  {
   "cell_type": "code",
   "execution_count": 28,
   "id": "893c58ef",
   "metadata": {},
   "outputs": [
    {
     "name": "stdout",
     "output_type": "stream",
     "text": [
      "<class 'pandas.core.frame.DataFrame'>\n",
      "Index: 17900 entries, PS0101114 to PS2001122\n",
      "Data columns (total 28 columns):\n",
      " #   Column                    Non-Null Count  Dtype   \n",
      "---  ------                    --------------  -----   \n",
      " 0   school_name               17900 non-null  string  \n",
      " 1   num_sitters               17900 non-null  int64   \n",
      " 2   average_300               17900 non-null  float64 \n",
      " 3   grade                     17900 non-null  category\n",
      " 4   region_name               17900 non-null  object  \n",
      " 5   council_name              17900 non-null  object  \n",
      " 6   num_sitters_girls         17900 non-null  int64   \n",
      " 7   num_sitters_boys          17900 non-null  int64   \n",
      " 8   ratio_sitters_girls_boys  17900 non-null  float64 \n",
      " 9   pct_passed                17900 non-null  float64 \n",
      " 10  approx_marks_SD_300       17900 non-null  float64 \n",
      " 11  WARD                      17874 non-null  string  \n",
      " 12  SCHOOL OWNERSHIP          17874 non-null  string  \n",
      " 13  SCHOOL REG. NUMBER        17874 non-null  object  \n",
      " 14  LATITUDE                  17874 non-null  Float64 \n",
      " 15  LONGITUDE                 17874 non-null  Float64 \n",
      " 16  TOTAL BOYS                17874 non-null  Int64   \n",
      " 17  TOTAL GIRLS               17874 non-null  Int64   \n",
      " 18  PTR                       17874 non-null  Int64   \n",
      " 19  PQTR                      17874 non-null  Float64 \n",
      " 20  TOTAL STUDENTS            17874 non-null  Int64   \n",
      " 21  RATIO GIRLS-BOYS          17874 non-null  Float64 \n",
      " 22  PBR_average               17871 non-null  float64 \n",
      " 23  CG                        16255 non-null  float64 \n",
      " 24  CG_per_student            16255 non-null  Float64 \n",
      " 25  approx_ages_SD            17874 non-null  float64 \n",
      " 26  approx_ages_mean          17874 non-null  float64 \n",
      " 27  ages_median               17874 non-null  float64 \n",
      "dtypes: Float64(5), Int64(4), category(1), float64(9), int64(3), object(3), string(3)\n",
      "memory usage: 4.0+ MB\n"
     ]
    }
   ],
   "source": [
    "#SPOT-CHECK CODE - handy, keep around!\n",
    "#df_x44.shape\n",
    "df_x44.info()\n",
    "#df_n4.describe(include='all')\n",
    "#df_x24[df_x24['school_id'] == 'PS1104063'] #JITEGEMEE @Morogoro MC\n",
    "#df_x24.loc['PS1104063'] #JITEGEMEE @Morogoro MC\n",
    "#df_x14c.head()\n",
    "#df_x13._is_copy"
   ]
  },
  {
   "cell_type": "code",
   "execution_count": null,
   "id": "af400dd2",
   "metadata": {
    "scrolled": true
   },
   "outputs": [],
   "source": []
  }
 ],
 "metadata": {
  "kernelspec": {
   "display_name": "Python 3 (ipykernel)",
   "language": "python",
   "name": "python3"
  },
  "language_info": {
   "codemirror_mode": {
    "name": "ipython",
    "version": 3
   },
   "file_extension": ".py",
   "mimetype": "text/x-python",
   "name": "python",
   "nbconvert_exporter": "python",
   "pygments_lexer": "ipython3",
   "version": "3.9.13"
  }
 },
 "nbformat": 4,
 "nbformat_minor": 5
}
